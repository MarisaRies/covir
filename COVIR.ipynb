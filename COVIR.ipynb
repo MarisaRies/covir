{
  "nbformat": 4,
  "nbformat_minor": 0,
  "metadata": {
    "colab": {
      "name": "COVIR.ipynb",
      "provenance": [],
      "collapsed_sections": [],
      "include_colab_link": true
    },
    "kernelspec": {
      "name": "python3",
      "display_name": "Python 3"
    },
    "language_info": {
      "name": "python"
    }
  },
  "cells": [
    {
      "cell_type": "markdown",
      "metadata": {
        "id": "view-in-github",
        "colab_type": "text"
      },
      "source": [
        "<a href=\"https://colab.research.google.com/github/MarisaRies/covir/blob/main/COVIR.ipynb\" target=\"_parent\"><img src=\"https://colab.research.google.com/assets/colab-badge.svg\" alt=\"Open In Colab\"/></a>"
      ]
    },
    {
      "cell_type": "code",
      "execution_count": 26,
      "metadata": {
        "id": "dHQudtyOr6lH"
      },
      "outputs": [],
      "source": [
        "#Encryption\n",
        "#!pip install cape_privacy"
      ]
    },
    {
      "cell_type": "code",
      "source": [
        "#Lade Bibliotheken\n",
        "import sqlite3            as sq\n",
        "from sqlite3 import Error\n",
        "import pandas             as pd\n",
        "import numpy              as np\n",
        "import requests\n",
        "import datetime           as dt\n",
        "import seaborn            as sns\n",
        "import matplotlib.pyplot  as plt\n",
        "import matplotlib         as mpl\n",
        "%matplotlib inline"
      ],
      "metadata": {
        "id": "CWjgcIvlb05o"
      },
      "execution_count": 27,
      "outputs": []
    },
    {
      "cell_type": "code",
      "source": [
        "#Pfad Definitionen\n",
        "drive_path        = \"/content/drive\"\n",
        "project_root_path = f\"{drive_path}/MyDrive/Studium/COVIR\"\n",
        "image_path        = f\"{project_root_path}/Bilder/\"\n",
        "git_path          = \"https://raw.githubusercontent.com/MarisaRies/covir/main/\"\n",
        "\n",
        "#Lokaler CSV-Pfad (privater Zugriff) \n",
        "csv_file_path     = f\"{project_root_path}/CSV/\"\n",
        "#Globaler CSV-Pfad (öffentlicher Zugriff) \n",
        "#csv_file_path = '/content/gdrive/Shareddrives/Material/csv_data/covid19/'"
      ],
      "metadata": {
        "id": "jdnDAdx1b59m"
      },
      "execution_count": 28,
      "outputs": []
    },
    {
      "cell_type": "code",
      "source": [
        "#\n",
        "# Aufbau der Quelldatenbank\n",
        "#\n",
        "\n",
        "#Verbinden von GDrive\n",
        "from google.colab import drive \n",
        "drive.mount(\"/content/drive\", force_remount=True)\n",
        "\n",
        "#Verbindung zu SQLite\n",
        "def create_connection_memory():\n",
        "  conn_src = None;\n",
        "  try:\n",
        "    #Verbindungsaufbau\n",
        "    conn_src = sq.connect(':memory:')\n",
        "    return conn_src\n",
        "    print(sqlite3.version)\n",
        "  except Error as e:\n",
        "    print(\"Quell-Datenbank: Fehler #1 beim Verbinden zu SQLite\", e)\n",
        "\n",
        "#Lokale Definition der SQLite Verbindung\n",
        "def create_connection_local(local_path):\n",
        "  conn_src = None;\n",
        "  try:\n",
        "    #Verbindungsaufbau\n",
        "    conn_src = sq.connect(local_path+'/covir_src.db')\n",
        "    return conn_src\n",
        "    print(sqlite3.version)\n",
        "  except Error as e:\n",
        "    print(\"Quell-Datenbank: Fehler #2 beim Verbinden zu SQLite\", e) \n",
        "conn_src = create_connection_memory()\n",
        "\n",
        "cur_src = conn_src.cursor()\n",
        "print(\"Quell-Datenbank: Verbindung erfolgreich zu SQLite\")\n",
        "\n",
        "#Tabellenschema erzeugen\n",
        "cur_src.executescript(requests.get(git_path+'sql/1src_db_create_statements.sql').text)\n",
        "\n",
        "conn_src.commit()\n",
        "\n",
        "print(\"Quell-Datenbank: Tabellenschema erfolgreich erstellt\")"
      ],
      "metadata": {
        "colab": {
          "base_uri": "https://localhost:8080/"
        },
        "id": "eUUhUjCGslrj",
        "outputId": "5bdf07a0-7981-4378-b721-37508a9e4d42"
      },
      "execution_count": 29,
      "outputs": [
        {
          "output_type": "stream",
          "name": "stdout",
          "text": [
            "Mounted at /content/drive\n",
            "Quell-Datenbank: Verbindung erfolgreich zu SQLite\n",
            "Quell-Datenbank: Tabellenschema erfolgreich erstellt\n"
          ]
        }
      ]
    },
    {
      "cell_type": "code",
      "source": [
        "#\n",
        "# ETL-Prozess: Extraktion\n",
        "#\n",
        "\n",
        "#CSV-Daten aus Google-Drive in Dateframes laden, relevante Spalten auswählen\n",
        "df_csv_pat = pd.read_csv(csv_file_path+'patients.csv')\n",
        "df_csv_pat = df_csv_pat[['Id','BIRTHDATE','DEATHDATE','FIRST','LAST']]\n",
        "\n",
        "df_csv_enc = pd.read_csv(csv_file_path+'encounters.csv')\n",
        "df_csv_enc = df_csv_enc[['Id','START','STOP','PATIENT','CODE','DESCRIPTION']]\n",
        "\n",
        "df_csv_con = pd.read_csv(csv_file_path+'conditions.csv')\n",
        "df_csv_con = df_csv_con[['ENCOUNTER','START','STOP','PATIENT','CODE','DESCRIPTION']]\n",
        "\n",
        "df_csv_imm = pd.read_csv(csv_file_path+'immunizations.csv')\n",
        "df_csv_imm = df_csv_imm[['ENCOUNTER','DATE','PATIENT','CODE','DESCRIPTION']]\n",
        "\n",
        "#Dataframes in Quell-Datenbank laden\n",
        "df_csv_pat.to_sql('tb_patients', conn_src, if_exists='append', index=False)\n",
        "df_csv_enc.to_sql('tb_encounters', conn_src, if_exists='append', index=False)\n",
        "df_csv_con.to_sql('tb_conditions', conn_src, if_exists='append', index=False)\n",
        "df_csv_imm.to_sql('tb_immunizations', conn_src, if_exists='append', index=False)\n",
        "\n",
        "conn_src.commit()\n",
        "\n",
        "#Dataframes löschen (werden nicht mehr gebraucht)\n",
        "del(df_csv_pat) \n",
        "del(df_csv_enc)\n",
        "del(df_csv_con)\n",
        "del(df_csv_imm)\n",
        "\n",
        "print(\"ETL-Extraktion: Relevante Daten aus CSV extrahiert und in Quelldatenbank eingefügt\")"
      ],
      "metadata": {
        "id": "lNOakb2CpD0-",
        "colab": {
          "base_uri": "https://localhost:8080/",
          "height": 450
        },
        "outputId": "19f51782-7bab-4b85-abec-59182c7ceb09"
      },
      "execution_count": 30,
      "outputs": [
        {
          "output_type": "error",
          "ename": "FileNotFoundError",
          "evalue": "ignored",
          "traceback": [
            "\u001b[0;31m---------------------------------------------------------------------------\u001b[0m",
            "\u001b[0;31mFileNotFoundError\u001b[0m                         Traceback (most recent call last)",
            "\u001b[0;32m<ipython-input-30-8b093d0ee148>\u001b[0m in \u001b[0;36m<module>\u001b[0;34m()\u001b[0m\n\u001b[1;32m      4\u001b[0m \u001b[0;34m\u001b[0m\u001b[0m\n\u001b[1;32m      5\u001b[0m \u001b[0;31m#CSV-Daten aus Google-Drive in Dateframes laden, relevante Spalten auswählen\u001b[0m\u001b[0;34m\u001b[0m\u001b[0;34m\u001b[0m\u001b[0;34m\u001b[0m\u001b[0m\n\u001b[0;32m----> 6\u001b[0;31m \u001b[0mdf_csv_pat\u001b[0m \u001b[0;34m=\u001b[0m \u001b[0mpd\u001b[0m\u001b[0;34m.\u001b[0m\u001b[0mread_csv\u001b[0m\u001b[0;34m(\u001b[0m\u001b[0mcsv_file_path\u001b[0m\u001b[0;34m+\u001b[0m\u001b[0;34m'patients.csv'\u001b[0m\u001b[0;34m)\u001b[0m\u001b[0;34m\u001b[0m\u001b[0;34m\u001b[0m\u001b[0m\n\u001b[0m\u001b[1;32m      7\u001b[0m \u001b[0mdf_csv_pat\u001b[0m \u001b[0;34m=\u001b[0m \u001b[0mdf_csv_pat\u001b[0m\u001b[0;34m[\u001b[0m\u001b[0;34m[\u001b[0m\u001b[0;34m'Id'\u001b[0m\u001b[0;34m,\u001b[0m\u001b[0;34m'BIRTHDATE'\u001b[0m\u001b[0;34m,\u001b[0m\u001b[0;34m'DEATHDATE'\u001b[0m\u001b[0;34m,\u001b[0m\u001b[0;34m'FIRST'\u001b[0m\u001b[0;34m,\u001b[0m\u001b[0;34m'LAST'\u001b[0m\u001b[0;34m]\u001b[0m\u001b[0;34m]\u001b[0m\u001b[0;34m\u001b[0m\u001b[0;34m\u001b[0m\u001b[0m\n\u001b[1;32m      8\u001b[0m \u001b[0;34m\u001b[0m\u001b[0m\n",
            "\u001b[0;32m/usr/local/lib/python3.7/dist-packages/pandas/io/parsers.py\u001b[0m in \u001b[0;36mread_csv\u001b[0;34m(filepath_or_buffer, sep, delimiter, header, names, index_col, usecols, squeeze, prefix, mangle_dupe_cols, dtype, engine, converters, true_values, false_values, skipinitialspace, skiprows, skipfooter, nrows, na_values, keep_default_na, na_filter, verbose, skip_blank_lines, parse_dates, infer_datetime_format, keep_date_col, date_parser, dayfirst, cache_dates, iterator, chunksize, compression, thousands, decimal, lineterminator, quotechar, quoting, doublequote, escapechar, comment, encoding, dialect, error_bad_lines, warn_bad_lines, delim_whitespace, low_memory, memory_map, float_precision)\u001b[0m\n\u001b[1;32m    686\u001b[0m     )\n\u001b[1;32m    687\u001b[0m \u001b[0;34m\u001b[0m\u001b[0m\n\u001b[0;32m--> 688\u001b[0;31m     \u001b[0;32mreturn\u001b[0m \u001b[0m_read\u001b[0m\u001b[0;34m(\u001b[0m\u001b[0mfilepath_or_buffer\u001b[0m\u001b[0;34m,\u001b[0m \u001b[0mkwds\u001b[0m\u001b[0;34m)\u001b[0m\u001b[0;34m\u001b[0m\u001b[0;34m\u001b[0m\u001b[0m\n\u001b[0m\u001b[1;32m    689\u001b[0m \u001b[0;34m\u001b[0m\u001b[0m\n\u001b[1;32m    690\u001b[0m \u001b[0;34m\u001b[0m\u001b[0m\n",
            "\u001b[0;32m/usr/local/lib/python3.7/dist-packages/pandas/io/parsers.py\u001b[0m in \u001b[0;36m_read\u001b[0;34m(filepath_or_buffer, kwds)\u001b[0m\n\u001b[1;32m    452\u001b[0m \u001b[0;34m\u001b[0m\u001b[0m\n\u001b[1;32m    453\u001b[0m     \u001b[0;31m# Create the parser.\u001b[0m\u001b[0;34m\u001b[0m\u001b[0;34m\u001b[0m\u001b[0;34m\u001b[0m\u001b[0m\n\u001b[0;32m--> 454\u001b[0;31m     \u001b[0mparser\u001b[0m \u001b[0;34m=\u001b[0m \u001b[0mTextFileReader\u001b[0m\u001b[0;34m(\u001b[0m\u001b[0mfp_or_buf\u001b[0m\u001b[0;34m,\u001b[0m \u001b[0;34m**\u001b[0m\u001b[0mkwds\u001b[0m\u001b[0;34m)\u001b[0m\u001b[0;34m\u001b[0m\u001b[0;34m\u001b[0m\u001b[0m\n\u001b[0m\u001b[1;32m    455\u001b[0m \u001b[0;34m\u001b[0m\u001b[0m\n\u001b[1;32m    456\u001b[0m     \u001b[0;32mif\u001b[0m \u001b[0mchunksize\u001b[0m \u001b[0;32mor\u001b[0m \u001b[0miterator\u001b[0m\u001b[0;34m:\u001b[0m\u001b[0;34m\u001b[0m\u001b[0;34m\u001b[0m\u001b[0m\n",
            "\u001b[0;32m/usr/local/lib/python3.7/dist-packages/pandas/io/parsers.py\u001b[0m in \u001b[0;36m__init__\u001b[0;34m(self, f, engine, **kwds)\u001b[0m\n\u001b[1;32m    946\u001b[0m             \u001b[0mself\u001b[0m\u001b[0;34m.\u001b[0m\u001b[0moptions\u001b[0m\u001b[0;34m[\u001b[0m\u001b[0;34m\"has_index_names\"\u001b[0m\u001b[0;34m]\u001b[0m \u001b[0;34m=\u001b[0m \u001b[0mkwds\u001b[0m\u001b[0;34m[\u001b[0m\u001b[0;34m\"has_index_names\"\u001b[0m\u001b[0;34m]\u001b[0m\u001b[0;34m\u001b[0m\u001b[0;34m\u001b[0m\u001b[0m\n\u001b[1;32m    947\u001b[0m \u001b[0;34m\u001b[0m\u001b[0m\n\u001b[0;32m--> 948\u001b[0;31m         \u001b[0mself\u001b[0m\u001b[0;34m.\u001b[0m\u001b[0m_make_engine\u001b[0m\u001b[0;34m(\u001b[0m\u001b[0mself\u001b[0m\u001b[0;34m.\u001b[0m\u001b[0mengine\u001b[0m\u001b[0;34m)\u001b[0m\u001b[0;34m\u001b[0m\u001b[0;34m\u001b[0m\u001b[0m\n\u001b[0m\u001b[1;32m    949\u001b[0m \u001b[0;34m\u001b[0m\u001b[0m\n\u001b[1;32m    950\u001b[0m     \u001b[0;32mdef\u001b[0m \u001b[0mclose\u001b[0m\u001b[0;34m(\u001b[0m\u001b[0mself\u001b[0m\u001b[0;34m)\u001b[0m\u001b[0;34m:\u001b[0m\u001b[0;34m\u001b[0m\u001b[0;34m\u001b[0m\u001b[0m\n",
            "\u001b[0;32m/usr/local/lib/python3.7/dist-packages/pandas/io/parsers.py\u001b[0m in \u001b[0;36m_make_engine\u001b[0;34m(self, engine)\u001b[0m\n\u001b[1;32m   1178\u001b[0m     \u001b[0;32mdef\u001b[0m \u001b[0m_make_engine\u001b[0m\u001b[0;34m(\u001b[0m\u001b[0mself\u001b[0m\u001b[0;34m,\u001b[0m \u001b[0mengine\u001b[0m\u001b[0;34m=\u001b[0m\u001b[0;34m\"c\"\u001b[0m\u001b[0;34m)\u001b[0m\u001b[0;34m:\u001b[0m\u001b[0;34m\u001b[0m\u001b[0;34m\u001b[0m\u001b[0m\n\u001b[1;32m   1179\u001b[0m         \u001b[0;32mif\u001b[0m \u001b[0mengine\u001b[0m \u001b[0;34m==\u001b[0m \u001b[0;34m\"c\"\u001b[0m\u001b[0;34m:\u001b[0m\u001b[0;34m\u001b[0m\u001b[0;34m\u001b[0m\u001b[0m\n\u001b[0;32m-> 1180\u001b[0;31m             \u001b[0mself\u001b[0m\u001b[0;34m.\u001b[0m\u001b[0m_engine\u001b[0m \u001b[0;34m=\u001b[0m \u001b[0mCParserWrapper\u001b[0m\u001b[0;34m(\u001b[0m\u001b[0mself\u001b[0m\u001b[0;34m.\u001b[0m\u001b[0mf\u001b[0m\u001b[0;34m,\u001b[0m \u001b[0;34m**\u001b[0m\u001b[0mself\u001b[0m\u001b[0;34m.\u001b[0m\u001b[0moptions\u001b[0m\u001b[0;34m)\u001b[0m\u001b[0;34m\u001b[0m\u001b[0;34m\u001b[0m\u001b[0m\n\u001b[0m\u001b[1;32m   1181\u001b[0m         \u001b[0;32melse\u001b[0m\u001b[0;34m:\u001b[0m\u001b[0;34m\u001b[0m\u001b[0;34m\u001b[0m\u001b[0m\n\u001b[1;32m   1182\u001b[0m             \u001b[0;32mif\u001b[0m \u001b[0mengine\u001b[0m \u001b[0;34m==\u001b[0m \u001b[0;34m\"python\"\u001b[0m\u001b[0;34m:\u001b[0m\u001b[0;34m\u001b[0m\u001b[0;34m\u001b[0m\u001b[0m\n",
            "\u001b[0;32m/usr/local/lib/python3.7/dist-packages/pandas/io/parsers.py\u001b[0m in \u001b[0;36m__init__\u001b[0;34m(self, src, **kwds)\u001b[0m\n\u001b[1;32m   2008\u001b[0m         \u001b[0mkwds\u001b[0m\u001b[0;34m[\u001b[0m\u001b[0;34m\"usecols\"\u001b[0m\u001b[0;34m]\u001b[0m \u001b[0;34m=\u001b[0m \u001b[0mself\u001b[0m\u001b[0;34m.\u001b[0m\u001b[0musecols\u001b[0m\u001b[0;34m\u001b[0m\u001b[0;34m\u001b[0m\u001b[0m\n\u001b[1;32m   2009\u001b[0m \u001b[0;34m\u001b[0m\u001b[0m\n\u001b[0;32m-> 2010\u001b[0;31m         \u001b[0mself\u001b[0m\u001b[0;34m.\u001b[0m\u001b[0m_reader\u001b[0m \u001b[0;34m=\u001b[0m \u001b[0mparsers\u001b[0m\u001b[0;34m.\u001b[0m\u001b[0mTextReader\u001b[0m\u001b[0;34m(\u001b[0m\u001b[0msrc\u001b[0m\u001b[0;34m,\u001b[0m \u001b[0;34m**\u001b[0m\u001b[0mkwds\u001b[0m\u001b[0;34m)\u001b[0m\u001b[0;34m\u001b[0m\u001b[0;34m\u001b[0m\u001b[0m\n\u001b[0m\u001b[1;32m   2011\u001b[0m         \u001b[0mself\u001b[0m\u001b[0;34m.\u001b[0m\u001b[0munnamed_cols\u001b[0m \u001b[0;34m=\u001b[0m \u001b[0mself\u001b[0m\u001b[0;34m.\u001b[0m\u001b[0m_reader\u001b[0m\u001b[0;34m.\u001b[0m\u001b[0munnamed_cols\u001b[0m\u001b[0;34m\u001b[0m\u001b[0;34m\u001b[0m\u001b[0m\n\u001b[1;32m   2012\u001b[0m \u001b[0;34m\u001b[0m\u001b[0m\n",
            "\u001b[0;32mpandas/_libs/parsers.pyx\u001b[0m in \u001b[0;36mpandas._libs.parsers.TextReader.__cinit__\u001b[0;34m()\u001b[0m\n",
            "\u001b[0;32mpandas/_libs/parsers.pyx\u001b[0m in \u001b[0;36mpandas._libs.parsers.TextReader._setup_parser_source\u001b[0;34m()\u001b[0m\n",
            "\u001b[0;31mFileNotFoundError\u001b[0m: [Errno 2] No such file or directory: '/content/gdrive/Shareddrives/Material/csv_data/covid19/patients.csv'"
          ]
        }
      ]
    },
    {
      "cell_type": "code",
      "source": [
        "#\n",
        "# ETL-Prozess: Transformation\n",
        "#\n",
        "\n",
        "#Tabellenschema für Data-Warehouse aus Quelldatenbank ableiten und temporär in Dataframes speichern\n",
        "cur_src.execute(\n",
        "\"\"\"\n",
        "SELECT * \n",
        "FROM tb_patients \n",
        "\"\"\"\n",
        ")\n",
        "df_src_pat = pd.DataFrame(cur_src.fetchall(), columns=('Id', 'birthdate', 'deathdate', 'first', 'last'))\n",
        "\n",
        "cur_src.execute(\n",
        "\"\"\"\n",
        "SELECT \n",
        "  enc.Id,\n",
        "  enc.start as date, \n",
        "  enc.patient,\n",
        "  enc.code,\n",
        "  enc.description,\n",
        "  con.code as action_code,\n",
        "  con.description as action_desc,\n",
        "  'con' as action_src\n",
        "FROM \n",
        "  tb_encounters as enc,\n",
        "  tb_conditions as con\n",
        "WHERE\n",
        "(\n",
        "  con.encounter = enc.Id\n",
        ")\n",
        "\n",
        "UNION\n",
        "\n",
        "SELECT \n",
        "  enc.Id,\n",
        "  enc.start as date, \n",
        "  enc.patient,\n",
        "  enc.code,\n",
        "  enc.description,\n",
        "  imm.code as action_code,\n",
        "  imm.description as action_desc,\n",
        "  'imm' as action_src\n",
        "FROM \n",
        "  tb_encounters as enc,\n",
        "  tb_immunizations as imm\n",
        "WHERE\n",
        "(\n",
        "  imm.encounter = enc.Id\n",
        ");\n",
        "\"\"\"\n",
        ")\n",
        "df_src_enc = pd.DataFrame(cur_src.fetchall(), columns=('Id', 'date', 'patient', 'code', 'description', 'action_code','action_desc', 'action_src'))\n",
        "\n",
        "cur_src.execute(\n",
        "\"\"\"\n",
        "SELECT DISTINCT \n",
        "  code as action_code, \n",
        "  description as action_desc \n",
        "FROM tb_conditions \n",
        "\n",
        "UNION\n",
        "\n",
        "SELECT DISTINCT \n",
        "  code as action_code, \n",
        "  description as action_desc \n",
        "FROM tb_immunizations \n",
        "\"\"\"\n",
        ")\n",
        "df_src_cod = pd.DataFrame(cur_src.fetchall(), columns=('action_code', 'action_desc'))\n",
        "\n",
        "print(\"ETL-Transformation: Schema-Transformation von Quelldatenbank nach Data-Warehouse erfolgreich abgeschlossen\")\n",
        "\n",
        "#Alter berechnen und als neues Feld dem Dataframe für Patienten-Daten hinzufügen\n",
        "df_src_pat['birthdate'] = pd.to_datetime(df_src_pat['birthdate'], format='%Y-%m-%d') #Daten von String in DateTime umwandeln für spätere Berechnung\n",
        "df_src_pat['deathdate'] = pd.to_datetime(df_src_pat['deathdate'], format='%Y-%m-%d')\n",
        "\n",
        "df_src_pat['EOL'] = df_src_pat.deathdate #Temporäre Spalte für Referenzpunkt der Altersberechnung (Todestag oder Heute)\n",
        "df_src_pat['EOL'] = df_src_pat['EOL'].fillna(pd.to_datetime(\"today\")) #Einsetzen von heutigem Datum, falls kein Todestag bekannt\n",
        "\n",
        "df_src_pat['age'] =  df_src_pat['EOL'].dt.year - df_src_pat['birthdate'].dt.year #Alter berechnen (Referenztag - Geburtstag) und in neue Spalte 'age' einfügen\n",
        "df_src_pat = df_src_pat.drop(columns=['EOL']) #Temporäre Spalte wieder löschen\n",
        "\n",
        "print(\"ETL-Transformation: Alter berechnet und in Patienten-Tabelle eingefügt\")"
      ],
      "metadata": {
        "id": "kMPWLOXuhhB5"
      },
      "execution_count": null,
      "outputs": []
    },
    {
      "cell_type": "code",
      "source": [
        "#\n",
        "# ETL-Prozess: Laden\n",
        "#\n",
        "\n",
        "#Verbindung zu SQLite\n",
        "def create_connection_memory():\n",
        "  conn_dwh = None;\n",
        "  try:\n",
        "    #Verbindungsaufbau\n",
        "    conn_dwh = sq.connect(':memory:')\n",
        "    return conn_dwh\n",
        "    print(sqlite3.version)\n",
        "  except Error as e:\n",
        "    print(\"ETL-Laden: Fehler #1 beim Verbinden zu SQLite\", e)\n",
        "\n",
        "#Lokale Definition der SQLite Verbindung\n",
        "def create_connection_local(local_path):\n",
        "  conn_dwh = None;\n",
        "  try:\n",
        "    #Verbindungsaufbau\n",
        "    conn_dwh = sq.connect(local_path+'/covir_dwh.db')\n",
        "    return conn_dwh\n",
        "    print(sqlite3.version)\n",
        "  except Error as e:\n",
        "    print(\"ETL-Laden: Fehler #2 beim Verbinden zu SQLite\", e) \n",
        "conn_dwh = create_connection_memory()\n",
        "\n",
        "cur_dwh = conn_dwh.cursor()\n",
        "print(\"ETL-Laden: Verbindung erfolgreich zu SQLite\")\n",
        "\n",
        "#Dataframes in Data-Warehouse laden\n",
        "df_src_pat.to_sql('tb_patients', conn_dwh, if_exists='replace', index=False)\n",
        "df_src_enc.to_sql('tb_encounters', conn_dwh, if_exists='replace', index=False)\n",
        "df_src_cod.to_sql('tb_codes', conn_dwh, if_exists='replace', index=False)\n",
        "\n",
        "conn_dwh.commit()\n",
        "\n",
        "#Dataframes löschen (werden nicht mehr gebraucht)\n",
        "del(df_src_pat) \n",
        "del(df_src_enc)\n",
        "del(df_src_cod)\n",
        "\n",
        "print(\"ETL-Laden: Dataframes erfolgreich in Data-Warehouse geladen, Data-Warehouse bereit!\")"
      ],
      "metadata": {
        "id": "sVkDUT35hiAL"
      },
      "execution_count": null,
      "outputs": []
    },
    {
      "cell_type": "code",
      "source": [
        "#Übersicht Patienten Tabelle\n",
        "df_dwh_pat = pd.read_sql_query(\"SELECT * FROM tb_patients\", conn_dwh)\n",
        "df_dwh_pat.info()\n",
        "df_dwh_pat"
      ],
      "metadata": {
        "id": "sWVqqs0RTToT"
      },
      "execution_count": null,
      "outputs": []
    },
    {
      "cell_type": "code",
      "source": [
        "#Grafik Altersverteilung\n",
        "sns.displot(df_dwh_pat[\"age\"])\n",
        "#plt.savefig(image_path+'Histogramm_Patientenalter.png')\n",
        "plt.show()"
      ],
      "metadata": {
        "id": "CD36v5DaihSM"
      },
      "execution_count": null,
      "outputs": []
    },
    {
      "cell_type": "code",
      "source": [
        "#Grafik Alive vs Death\n",
        "df_dwh_pat[\"state\"] = df_dwh_pat[\"deathdate\"] #Kopieren der Spalte Todestag in neue Spalte \"state\"\n",
        "df_dwh_pat[\"state\"] = df_dwh_pat[\"state\"].fillna('Alive') #Normalisierung von NaN nach 'Alive'\n",
        "df_dwh_pat[\"state\"] = df_dwh_pat[\"state\"].replace(['[^Alive]'], '', regex = True) #Normalisierung jeder Zeile ungleich 'Alive' nach '' mittels regulärem Ausdruck\n",
        "df_dwh_pat[\"state\"] = df_dwh_pat[\"state\"].replace([''], 'Death') #Ersetzen von '' mit 'Death'\n",
        "\n",
        "sns.countplot(x=\"variable\", hue= \"value\", data=pd.melt(df_dwh_pat[[\"state\"]]))\n",
        "#plt.savefig(image_path+'Histogramm_Lebendig-Tot.png')\n",
        "plt.show()"
      ],
      "metadata": {
        "id": "t5grcLsLmigu"
      },
      "execution_count": null,
      "outputs": []
    },
    {
      "cell_type": "code",
      "source": [
        "#Übersicht Encounter (Begegnung) Tabelle\n",
        "df_dwh_enc = pd.read_sql_query(\"SELECT * FROM tb_encounters\", conn_dwh)\n",
        "df_dwh_enc.info()\n",
        "df_dwh_enc"
      ],
      "metadata": {
        "id": "zuLGBW-SW3WV"
      },
      "execution_count": null,
      "outputs": []
    },
    {
      "cell_type": "code",
      "source": [
        "#Grafik Verteilung der Begenungsgründe\n",
        "df_dwh_enc_dis = pd.read_sql_query(\"SELECT DISTINCT Id, date, patient, code, description FROM tb_encounters\", conn_dwh)\n",
        "sns.countplot(x=\"variable\", hue= \"value\", data=pd.melt(df_dwh_enc_dis[[\"description\"]]))\n",
        "plt.legend(loc='upper center', bbox_to_anchor=(1.45, 0.8), ncol=1)\n",
        "#plt.savefig(image_path+'Histogramm_Begegnungsgrund.png')\n",
        "plt.show()"
      ],
      "metadata": {
        "id": "UvTIQNIR08v5"
      },
      "execution_count": null,
      "outputs": []
    },
    {
      "cell_type": "code",
      "source": [
        "#Grafik zeitliche Verteilung der Begnungen (Jahr)\n",
        "df_dwh_enc_dis[\"examination_year\"] = pd.DatetimeIndex(df_dwh_enc_dis['date']).year #Normalisierung auf Jahr, um Plot zu verbessern\n",
        "sns.displot(df_dwh_enc_dis[\"examination_year\"])\n",
        "#plt.savefig(image_path+'Histogramm_Begegnungsverteilung.png')\n",
        "plt.show()"
      ],
      "metadata": {
        "id": "P5-A_MAw4OjN"
      },
      "execution_count": null,
      "outputs": []
    },
    {
      "cell_type": "code",
      "source": [
        "#Grafik zeitliche Verteilung der Begegnungen (2019-2021, monatlich)\n",
        "#todo"
      ],
      "metadata": {
        "id": "cK13-JDv8tly"
      },
      "execution_count": null,
      "outputs": []
    },
    {
      "cell_type": "code",
      "source": [
        "#Grafik Verteilung der Symptome\n",
        "df_dwh_con = pd.read_sql_query(\"SELECT * FROM tb_encounters WHERE action_src = 'con'\", conn_dwh)\n",
        "sns.countplot(y=\"variable\", hue= \"value\", data=pd.melt(df_dwh_con[[\"action_desc\"]]))\n",
        "plt.legend(loc='upper center', bbox_to_anchor=(1.45, 0.8), ncol=1)\n",
        "#plt.savefig(image_path+'Histogramm_Symptomverteilung.png')\n",
        "plt.show()"
      ],
      "metadata": {
        "id": "sIzFCJu79Pav"
      },
      "execution_count": null,
      "outputs": []
    },
    {
      "cell_type": "code",
      "source": [
        "#Grafik Anzahl Symptome pro Patient (gestaffelt)\n",
        "#todo"
      ],
      "metadata": {
        "id": "BzEo8rJNAE4l"
      },
      "execution_count": null,
      "outputs": []
    },
    {
      "cell_type": "code",
      "source": [
        "#Grafik Verteilung der Impfungen\n",
        "df_dwh_con = pd.read_sql_query(\"SELECT * FROM tb_encounters WHERE action_src = 'imm'\", conn_dwh)\n",
        "sns.countplot(y=\"variable\", hue= \"value\", data=pd.melt(df_dwh_con[[\"action_desc\"]]))\n",
        "plt.legend(loc='upper center', bbox_to_anchor=(1.45, 0.8), ncol=1)\n",
        "#plt.savefig(image_path+'Histogramm_Impfungsverteilung.png')\n",
        "plt.show()"
      ],
      "metadata": {
        "id": "t7U3TSiD-8r8"
      },
      "execution_count": null,
      "outputs": []
    },
    {
      "cell_type": "code",
      "source": [
        "#Übersicht Codes Tabelle\n",
        "df_dwh_pat = pd.read_sql_query(\"SELECT * FROM tb_codes ORDER BY action_code\", conn_dwh)\n",
        "df_dwh_pat.info()\n",
        "df_dwh_pat"
      ],
      "metadata": {
        "id": "nX4wokjG2xlM"
      },
      "execution_count": null,
      "outputs": []
    },
    {
      "cell_type": "code",
      "source": [
        "# Hypothesen\n",
        "\n",
        "#\n",
        "# Geriatrische Patienten (65+) erkranken häufiger an Covid-19.\n",
        "#\n",
        "\n",
        "#Grafik Anzahl geriatrischer Patienten (>=65) zu nicht-geriatrischen Patienten (<65)\n",
        "df_dwh_hyp1_1 = pd.read_sql_query(\n",
        "    \"\"\"\n",
        "    SELECT DISTINCT pat.Id, pat.age\n",
        "    FROM tb_patients as pat\n",
        "    \"\"\"\n",
        "    , conn_dwh)\n",
        "\n",
        "df_dwh_hyp1_1['ger_state'] = [\">=65\" if x >=65 else \"<65\" for x in df_dwh_hyp1_1['age']] #Umwandlung der Spalte Alter in feste Dimensionen [>=65] und [<65]\n",
        "\n",
        "sns.displot(df_dwh_hyp1_1[\"ger_state\"])\n",
        "#plt.savefig(image_path+'Histogramm_geriatrischer_Zustand.png')\n",
        "plt.show()\n",
        "print(\"Anzahl nicht-geriatrischen Patienten (<65) zu geriatrischer Patienten (>=65)\")"
      ],
      "metadata": {
        "id": "hhGIcDvB3vyM"
      },
      "execution_count": null,
      "outputs": []
    },
    {
      "cell_type": "code",
      "source": [
        "#Abfrage aller Patienten mit Alter und Covid-19-Status ('COVID-19' wenn positiv, '' wenn negativ)\n",
        "df_dwh_hyp1_2 = pd.read_sql_query(\n",
        "    \"\"\"\n",
        "    SELECT DISTINCT(temp.patient), pat.age, temp.desc\n",
        "\n",
        "    FROM (\n",
        "      SELECT enc.patient as patient, action_desc as desc\n",
        "      FROM tb_encounters as enc\n",
        "      WHERE action_code = '840539006'\n",
        "\n",
        "      UNION\n",
        "\n",
        "      SELECT Id, '' as action_desc\n",
        "      FROM tb_patients\n",
        "    ) as temp JOIN tb_patients as pat ON pat.Id = temp.patient \n",
        "    GROUP BY patient\n",
        "    \"\"\"\n",
        "    , conn_dwh)\n",
        "\n",
        "df_dwh_hyp1_2[\"desc\"] = df_dwh_hyp1_2[\"desc\"].replace([''], 'Negativ') #Ersetzen von leerem String '' mit dem String 'Negativ'\n",
        "df_dwh_hyp1_2['age'] = [\">=65\" if x >=65 else \"<65\" for x in df_dwh_hyp1_2['age']] #Umwandlung der Spalte Alter in feste Dimensionen [>=65] und [<65]\n",
        "\n",
        "g = sns.FacetGrid(df_dwh_hyp1_2, col=\"desc\")\n",
        "g.map(sns.histplot, \"age\")\n",
        "#plt.savefig(image_path+'Histogramm_geriatrischer_Zustand.png')\n",
        "plt.show()\n",
        "print(\"Anzahl nicht-geriatrischen Patienten (<65) zu geriatrischer Patienten (>=65), Links für Covid-19-positive Fälle. Rechts für negative Fälle\")"
      ],
      "metadata": {
        "id": "3MV4dfxLIoUu"
      },
      "execution_count": null,
      "outputs": []
    }
  ]
}